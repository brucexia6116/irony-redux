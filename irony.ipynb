{
 "metadata": {
  "name": "irony"
 }, 
 "name": "irony", 
 "nbformat": 2, 
 "worksheets": [
  {
   "cells": [
    {
     "cell_type": "code", 
     "collapsed": false, 
     "input": "cd dev/computational-irony/", 
     "language": "python", 
     "outputs": [
      {
       "output_type": "stream", 
       "stream": "stdout", 
       "text": "/Users/bwallace/dev/computational-irony"
      }
     ], 
     "prompt_number": 3
    }, 
    {
     "cell_type": "code", 
     "collapsed": false, 
     "input": "import annotation_stats", 
     "language": "python", 
     "outputs": [
      {
       "output_type": "stream", 
       "stream": "stdout", 
       "text": "Version 2.1.5 of praw is outdated. Version 2.1.14 was released Monday February 24, 2014."
      }, 
      {
       "output_type": "stream", 
       "stream": "stderr", 
       "text": "/Library/Frameworks/Python.framework/Versions/7.3/lib/python2.7/site-packages/nose/util.py:14: DeprecationWarning: The compiler package is deprecated and removed in Python 3.x.\n  from compiler.consts import CO_GENERATOR"
      }
     ], 
     "prompt_number": 4
    }, 
    {
     "cell_type": "code", 
     "collapsed": false, 
     "input": "annotation_stats.pretense()", 
     "language": "python", 
     "outputs": [
      {
       "output_type": "stream", 
       "stream": "stdout", 
       "text": "Optimization terminated successfully.\n         Current function value: 0.511413\n         Iterations 5\n --- conservative ---\n                           Logit Regression Results                           \n==============================================================================\nDep. Variable:                      y   No. Observations:                 5047\nModel:                          Logit   Df Residuals:                     5045\nMethod:                           MLE   Df Model:                            1\nDate:                Fri, 07 Mar 2014   Pseudo R-squ.:                0.003997\nTime:                        08:03:03   Log-Likelihood:                -2581.1\nconverged:                       True   LL-Null:                       -2591.5\n                                        LLR p-value:                 5.322e-06\n==============================================================================\n                 coef    std err          z      P>|z|      [95.0% Conf. Int.]\n------------------------------------------------------------------------------\nconst         -1.4273      0.041    -34.490      0.000        -1.508    -1.346\nx1             3.1324      0.670      4.676      0.000         1.819     4.445\n==============================================================================\nOptimization terminated successfully."
      }, 
      {
       "output_type": "stream", 
       "stream": "stdout", 
       "text": "\n         Current function value: 0.513370\n         Iterations 5\n\n --- liberal ---\n                           Logit Regression Results                           \n==============================================================================\nDep. Variable:                      y   No. Observations:                 5118\nModel:                          Logit   Df Residuals:                     5116\nMethod:                           MLE   Df Model:                            1\nDate:                Fri, 07 Mar 2014   Pseudo R-squ.:                 0.01970\nTime:                        08:03:19   Log-Likelihood:                -2627.4\nconverged:                       True   LL-Null:                       -2680.2\n                                        LLR p-value:                 9.127e-25\n==============================================================================\n                 coef    std err          z      P>|z|      [95.0% Conf. Int.]\n------------------------------------------------------------------------------\nconst          4.2016      0.544      7.718      0.000         3.135     5.269\nx1            -5.6706      0.563    -10.068      0.000        -6.775    -4.567\n=============================================================================="
      }
     ], 
     "prompt_number": 6
    }
   ]
  }
 ]
}